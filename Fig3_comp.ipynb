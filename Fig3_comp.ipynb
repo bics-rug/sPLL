{
 "cells": [
  {
   "cell_type": "code",
   "execution_count": 1,
   "id": "initial_id",
   "metadata": {
    "ExecuteTime": {
     "end_time": "2023-11-20T08:35:02.858759754Z",
     "start_time": "2023-11-20T08:35:01.062675460Z"
    }
   },
   "outputs": [],
   "source": [
    "import torch\n",
    "import os\n",
    "import skunk"
   ]
  },
  {
   "cell_type": "code",
   "execution_count": 2,
   "id": "6f7abbe064e34da4",
   "metadata": {
    "ExecuteTime": {
     "end_time": "2023-11-20T08:35:02.935524655Z",
     "start_time": "2023-11-20T08:35:02.864661120Z"
    }
   },
   "outputs": [
    {
     "name": "stdout",
     "output_type": "stream",
     "text": [
      "File 0 not found\n"
     ]
    },
    {
     "ename": "RuntimeError",
     "evalue": "stack expects a non-empty TensorList",
     "output_type": "error",
     "traceback": [
      "\u001b[0;31m---------------------------------------------------------------------------\u001b[0m",
      "\u001b[0;31mRuntimeError\u001b[0m                              Traceback (most recent call last)",
      "Input \u001b[0;32mIn [2]\u001b[0m, in \u001b[0;36m<cell line: 37>\u001b[0;34m()\u001b[0m\n\u001b[1;32m     35\u001b[0m         \u001b[38;5;28;01mbreak\u001b[39;00m\n\u001b[1;32m     36\u001b[0m \u001b[38;5;66;03m# acc_lif = torch.stack(acc_null)*100\u001b[39;00m\n\u001b[0;32m---> 37\u001b[0m acc_null \u001b[38;5;241m=\u001b[39m \u001b[43mtorch\u001b[49m\u001b[38;5;241;43m.\u001b[39;49m\u001b[43mstack\u001b[49m\u001b[43m(\u001b[49m\u001b[43macc_null\u001b[49m\u001b[43m)\u001b[49m\u001b[38;5;241m*\u001b[39m\u001b[38;5;241m100\u001b[39m\n\u001b[1;32m     38\u001b[0m acc_spll \u001b[38;5;241m=\u001b[39m torch\u001b[38;5;241m.\u001b[39mstack(acc_spll)\u001b[38;5;241m*\u001b[39m\u001b[38;5;241m100\u001b[39m\n\u001b[1;32m     39\u001b[0m acc_LIF1 \u001b[38;5;241m=\u001b[39m torch\u001b[38;5;241m.\u001b[39mstack(acc_LIF1)\u001b[38;5;241m*\u001b[39m\u001b[38;5;241m100\u001b[39m\n",
      "\u001b[0;31mRuntimeError\u001b[0m: stack expects a non-empty TensorList"
     ]
    }
   ],
   "source": [
    "folder = os.path.join(os.getcwd(),'seed_coll')\n",
    "acc_null = []\n",
    "acc_LSTM = []\n",
    "acc_lif = []\n",
    "acc_spll = []\n",
    "acc_LIF1 = []\n",
    "acc_LIF2 = []\n",
    "seeds = 15\n",
    "epochs = 1000\n",
    "spk_LIF1 = []\n",
    "spk_LIF2 = []\n",
    "spk_spll = []\n",
    "for seed in range(seeds):\n",
    "    try:\n",
    "        acc_null.append(torch.load(os.path.join(folder,f'Null_multifreq_acc_coll_{seed}.pt'))[:epochs])\n",
    "        print(len(acc_null[-1]))\n",
    "        print('acc_null loaded')\n",
    "        acc_LSTM.append(torch.load(os.path.join(folder,f'LSTM_multifreq_acc_coll_{seed}.pt'))[:epochs])\n",
    "        print('acc_LSTM loaded')\n",
    "        acc_LIF1.append(torch.load(os.path.join(folder,f'LIF_multifreq_[50]_acc_coll_{seed}.pt'))[:epochs])\n",
    "        print('acc_LIF1 loaded')\n",
    "        acc_LIF2.append(torch.load(os.path.join(folder,f'LIF_multifreq_[50, 50]_acc_coll_{seed}.pt'))[:epochs])\n",
    "        print('acc_LIF2 loaded')\n",
    "        acc_spll.append(torch.load(os.path.join(folder,f'SPLL_multifreq_acc_coll_{seed}.pt'))[:epochs])\n",
    "        print('acc_spll loaded')\n",
    "        spk_LIF1.append(torch.load(os.path.join(folder,f'LIF_multifreq_[50]_spk_count_{seed}.pt')))\n",
    "        print('spk_LIF1 loaded')\n",
    "        spk_LIF2.append(torch.load(os.path.join(folder,f'LIF_multifreq_[50, 50]_spk_count_{seed}.pt')))\n",
    "        print('spk_LIF2 loaded')\n",
    "        spk_spll.append(torch.load(os.path.join(folder,f'SPLL_multifreq_spike_count-{seed}.pt')))\n",
    "        print('spk_spll loaded')\n",
    "    except FileNotFoundError:\n",
    "        print(f'File {seed} not found')\n",
    "        seeds = seed\n",
    "        break\n",
    "# acc_lif = torch.stack(acc_null)*100\n",
    "acc_null = torch.stack(acc_null)*100\n",
    "acc_spll = torch.stack(acc_spll)*100\n",
    "acc_LIF1 = torch.stack(acc_LIF1)*100\n",
    "acc_LIF2 = torch.stack(acc_LIF2)*100\n",
    "acc_LSTM = torch.stack(acc_LSTM)*100\n",
    "spk_spll = torch.stack(spk_spll)\n",
    "spk_LIF1 = torch.stack(spk_LIF1)\n",
    "spk_LIF2 = torch.stack(spk_LIF2)"
   ]
  },
  {
   "cell_type": "code",
   "execution_count": null,
   "id": "98a2c8ce85fcd241",
   "metadata": {
    "ExecuteTime": {
     "end_time": "2023-11-20T08:35:02.980578539Z",
     "start_time": "2023-11-20T08:35:02.937017299Z"
    }
   },
   "outputs": [],
   "source": [
    "import matplotlib.pyplot as plt\n",
    "from matplotlib.lines import Line2D\n",
    "import numpy as np\n",
    "SMALL_SIZE = 8\n",
    "MEDIUM_SIZE = 12\n",
    "BIGGER_SIZE = 14\n",
    "plt.rc('font', family='georgia', size=SMALL_SIZE)\n",
    "# plt.rc('font', size=SMALL_SIZE)          # controls default text sizes\n",
    "plt.rc('axes', titlesize=BIGGER_SIZE)     # fontsize of the axes title\n",
    "plt.rc('axes', labelsize=MEDIUM_SIZE)    # fontsize of the x and y labels\n",
    "plt.rc('xtick', labelsize=MEDIUM_SIZE)    # fontsize of the tick labels\n",
    "plt.rc('ytick', labelsize=MEDIUM_SIZE)    # fontsize of the tick labels\n",
    "plt.rc('legend', fontsize=SMALL_SIZE)    # legend fontsize\n",
    "plt.rc('figure', titlesize=BIGGER_SIZE)  # fontsize of the figure title\n",
    "# fig1 = plt.figure(figsize=(20,5))\n",
    "fig1 = plt.figure(figsize=(14,6))\n",
    "gs = fig1.add_gridspec(9, 2)"
   ]
  },
  {
   "cell_type": "code",
   "execution_count": null,
   "id": "8e4626229ddd6968",
   "metadata": {
    "ExecuteTime": {
     "end_time": "2023-11-20T08:35:03.415595192Z",
     "start_time": "2023-11-20T08:35:02.956778847Z"
    }
   },
   "outputs": [],
   "source": [
    "\n",
    "colors = plt.cm.get_cmap('Dark2',8)(np.linspace(0,1,8))\n",
    "\n",
    "axs = []\n",
    "axs.append(fig1.add_subplot(gs[0:5, 1]))\n",
    "axs.append(fig1.add_subplot(gs[6:, 1]))\n",
    "axs.append(fig1.add_subplot(gs[:3, 0]))\n",
    "axs.append(fig1.add_subplot(gs[3:6, 0]))\n",
    "axs.append(fig1.add_subplot(gs[6:, 0]))\n",
    "\n",
    "letters = ['D','E','A','B','C']\n",
    "axs[0].text(-0.1, 1.0, letters.pop(0), transform=axs[0].transAxes, \n",
    "        size=20, weight='bold')\n",
    "axs[1].text(-0.1, 1.0, letters.pop(0), transform=axs[1].transAxes, \n",
    "        size=20, weight='bold')\n",
    "\n",
    "axs[2].axis('off')\n",
    "axs[2].text(-0.1, 1.1, letters.pop(0), transform=axs[2].transAxes, \n",
    "        size=20, weight='bold')\n",
    "axs[3].axis('off')\n",
    "\n",
    "axs[3].text(-0.1, 1.0, letters.pop(0), transform=axs[3].transAxes, \n",
    "        size=20, weight='bold')\n",
    "axs[4].axis('off')\n",
    "\n",
    "axs[4].text(-0.1, 1.0, letters.pop(0), transform=axs[4].transAxes, \n",
    "        size=20, weight='bold')\n",
    "\n",
    "axs[0].plot(acc_null.T,color=\"#A7A7A7\",alpha = 0.1)\n",
    "axs[0].plot(torch.mean(acc_null,dim=0),color=\"#A7A7A7\",alpha = 1,linewidth=2)\n",
    "axs[0].plot(acc_LIF1.T,color=colors[-4],alpha = 0.1)\n",
    "axs[0].plot(torch.mean(acc_LIF1,dim=0),color=colors[-4],alpha = 1,linewidth=2)\n",
    "axs[0].plot(acc_LIF2.T,color=colors[-3],alpha = 0.1)\n",
    "axs[0].plot(torch.mean(acc_LIF2,dim=0),color=colors[-3],alpha = 1,linewidth=2)\n",
    "axs[0].plot(acc_spll.T,color=colors[-2],alpha = 0.1)\n",
    "axs[0].plot(torch.mean(acc_spll,dim=0),color=colors[-2],alpha = 1,linewidth=2)\n",
    "axs[0].plot(acc_LSTM.T,color=colors[-1],alpha = 0.1)\n",
    "axs[0].plot(torch.mean(acc_LSTM,dim=0),color=colors[-1],alpha = 1,linewidth=2)\n",
    "axs[0].set_xlabel('Epochs')\n",
    "axs[0].set_title(f'Mean over {seeds} seeds')\n",
    "axs[0].set_ylabel('Accuracy (\\%)')\n",
    "axs[0].spines['right'].set_visible(False)\n",
    "axs[0].spines['top'].set_visible(False)\n",
    "axs[0].patch.set_visible(False)\n",
    "axs[0].grid(False)\n",
    "# axs[0].text(-0.1, 1.1, letters.pop(0), transform=axs[0].transAxes, \n",
    "#         size=20, weight='bold')\n",
    "\n",
    "custom_lines = []\n",
    "custom_lines.append(Line2D([0], [0], color=\"#A7A7A7\", lw=4,solid_capstyle='round'))\n",
    "custom_lines.append(Line2D([0], [0], color=colors[-4], lw=4,solid_capstyle='round'))\n",
    "custom_lines.append(Line2D([0], [0], color=colors[-3], lw=4,solid_capstyle='round'))\n",
    "custom_lines.append(Line2D([0], [0], color=colors[-2], lw=4,solid_capstyle='round'))\n",
    "custom_lines.append(Line2D([0], [0], color=colors[-1], lw=4,solid_capstyle='round'))\n",
    "axs[0].legend(custom_lines,[\n",
    "   'Linear',\n",
    "     '1L 50 R-LIF + Linear',\n",
    "     '2L 50 R-LIF + Linear',\n",
    "    '50 sPLL + Linear',\n",
    "    '2L-LSTM + Linear'\n",
    "],fancybox=True,loc='best',title='Model', framealpha=0.8)\n",
    "# fig1.savefig('multifreq_acc_coll.pdf',bbox_inches='tight')"
   ]
  },
  {
   "cell_type": "code",
   "execution_count": null,
   "id": "84c34bbf58f35996",
   "metadata": {
    "ExecuteTime": {
     "end_time": "2023-11-20T08:35:03.434088006Z",
     "start_time": "2023-11-20T08:35:03.420885518Z"
    }
   },
   "outputs": [],
   "source": [
    "plt.rcParams['text.usetex'] = True\n",
    "\n",
    "# plt.rcParams[\"font.family\"] = \"Giorgia\"\n",
    "\n",
    "# plt.rcParams['text.latex.preamble'] = r'\\usepackage{amsmath}'\n",
    "# plt.rc('font', family='georgia', size=SMALL_SIZE)\n",
    "# linex = r\"\\setlength{\\tabcolsep}{20pt}\"\n",
    "# liney = r\"\\renewcommand{\\arraystretch}{3}\"\n",
    "line0 = r\"\\begin{tabular}{lllll}\"\n",
    "\n",
    "line2 = r\"\\hline \"\n",
    "line1 = r\"Network & \\# Neurons & \\# Synapses & \\# Spikes [1E3] (0.1 s) & Accuracy (\\%) \\\\\"\n",
    "line3 = r\"Linear    & -          & -           & -                 & \" + str(np.round(torch.mean(acc_null,dim=0)[-1].item(),1)) + \"±\"+ str(np.round(torch.std(acc_null,dim=0)[-1].item(),1)) + r\"\\\\\"\n",
    "line4 = r\"1L R-LIF     & 50        & 2550        & \" + str(np.round(torch.mean(spk_LIF1).item())/1e3) + \"±\"+ str(np.round(torch.std(spk_LIF1).item()/1e3)) + r\" & \" + str(np.round(torch.mean(acc_LIF1,dim=0)[-1].item(),1)) + \"±\"+ str(np.round(torch.std(acc_LIF1,dim=0)[-1].item(),1)) + r\"\\\\\"\n",
    "line5 = r\"2L R-LIF     & 100        & 7550        & \" + str(np.round(torch.mean(spk_LIF2).item())/1e3) + \"±\"+ str(np.round(torch.std(spk_LIF2).item())/1e3) + r\" & \" + str(np.round(torch.mean(acc_LIF2,dim=0)[-1].item(),1)) + \"±\"+ str(np.round(torch.std(acc_LIF2,dim=0)[-1].item(),1)) + r\"\\\\\"\n",
    "line6 = r\"SPLL    & 100        & 150         & \" + str(np.round(torch.mean(spk_spll).item())/1e3) + \"±\"+ str(np.round(torch.std(spk_spll).item())/1e3) + r\" & \" + str(np.round(torch.mean(acc_spll,dim=0)[-1].item(),1))  + \"±\"+ str(np.round(torch.std(acc_spll,dim=0)[-1].item(),1)) + r\"\\\\\"\n",
    "line7 = r\"LSTM    & -          & -           & -                 & \" + str(np.round(torch.mean(acc_LSTM,dim=0)[-1].item(),1)) + \"±\"+ str(np.round(torch.std(acc_LSTM,dim=0)[-1].item(),1)) + r\"\\\\\"\n",
    "\n",
    "table = (line0 + line1 + line2 + line3 + line4 + line5 + line6 +\n",
    "          line7 + r\"\\end{tabular}\")\n",
    "# table = (r\"\\begin{tabular}{lllll}\"\n",
    "#          r\"\\hline \"\n",
    "#          r\"Network & \\# Neurons & \\# Synapses & \\# Spikes (0.1 s) & Accuracy (\\%) \\\\\"\n",
    "#          r\"Linear    & -          & -           & -                 &    \\\\\"\n",
    "#          r\"LIF     & 100        & 7550        &                   &               \\\\\"\n",
    "#          r\"SPLL    & 100        & 200         &                   &              \"\n",
    "#          r\"\\end{tabular}\")\n",
    "axs[1].axis('off')\n",
    "\n",
    "axs[1].annotate(table, xy=(0.5, 0.6), ha='center', va='center', size=12, xycoords=axs[1].transAxes)\n",
    "\n",
    "\n",
    "# fig1.tight_layout()\n"
   ]
  },
  {
   "cell_type": "code",
   "execution_count": null,
   "id": "37880df2543f0ded",
   "metadata": {
    "ExecuteTime": {
     "end_time": "2023-11-20T08:35:04.447085756Z",
     "start_time": "2023-11-20T08:35:03.433345944Z"
    }
   },
   "outputs": [],
   "source": [
    "fig1.savefig('multifreq_acc_coll.pdf',bbox_inches='tight')\n"
   ]
  },
  {
   "cell_type": "code",
   "execution_count": null,
   "id": "3a2d1a679a0fa14f",
   "metadata": {
    "ExecuteTime": {
     "end_time": "2024-02-17T12:04:54.997855116Z",
     "start_time": "2024-02-17T12:04:54.705376291Z"
    }
   },
   "outputs": [],
   "source": [
    "import torch\n",
    "import os\n",
    "import matplotlib.pyplot as plt\n",
    "name = 'f1_30_3_54-f2_30_9_48-100-100-1-0_0.1-6'\n",
    "spikes_spll = torch.load(os.path.join('synthetic_data', 'spll_output-' + name + '.pt'))\n",
    "spikes_spll_sum = torch.sum(spikes_spll, dim=0)\n",
    "labels_combined_str = torch.load(os.path.join('synthetic_data', 'spll_labels-' + name + '.pt'))\n",
    "print(labels_combined_str)\n",
    "# spikes_spll_sum_sel = spikes_spll_sum[::100]\n",
    "arg_sort_labels = torch.argsort(labels_combined_str)\n",
    "spikes_spll_sum_sel = spikes_spll_sum[arg_sort_labels]\n",
    "plt.imshow(spikes_spll_sum_sel/(spikes_spll_sum_sel.mean(dim=0)), aspect='auto',cmap='cividis',interpolation='nearest')\n",
    "plt.colorbar()\n",
    "plt.savefig('spll_multifreq_imshow.pdf',bbox_inches='tight')"
   ]
  },
  {
   "cell_type": "code",
   "execution_count": null,
   "id": "3ceb439af76322d1",
   "metadata": {
    "ExecuteTime": {
     "end_time": "2024-02-17T12:00:40.881951168Z",
     "start_time": "2024-02-17T12:00:40.720754027Z"
    }
   },
   "outputs": [],
   "source": [
    "plt.hist(labels_combined_str,bins = torch.unique(labels_combined_str))"
   ]
  },
  {
   "cell_type": "code",
   "execution_count": null,
   "id": "8096bff3ea369ed3",
   "metadata": {
    "ExecuteTime": {
     "end_time": "2023-11-20T08:35:42.659821084Z",
     "start_time": "2023-11-20T08:35:41.211189113Z"
    }
   },
   "outputs": [],
   "source": [
    "import matplotlib.pyplot as plt\n",
    "from matplotlib.lines import Line2D\n",
    "import numpy as np\n",
    "\n",
    "colors = plt.cm.get_cmap('Dark2',8)(np.linspace(0,1,8))\n",
    "plt.rcParams['text.usetex'] = False\n",
    "\n",
    "SMALL_SIZE = 10\n",
    "MEDIUM_SIZE = 12\n",
    "BIGGER_SIZE = 14\n",
    "textwidth = 6.50127 #inches\n",
    "global_width = textwidth*2.5\n",
    "global_height = global_width*0.9/3\n",
    "plt.rc('font', family='georgia', size=SMALL_SIZE)\n",
    "# plt.rc('font', size=SMALL_SIZE)          # controls default text sizes\n",
    "plt.rc('axes', titlesize=BIGGER_SIZE)     # fontsize of the axes title\n",
    "plt.rc('axes', labelsize=MEDIUM_SIZE)    # fontsize of the x and y labels\n",
    "plt.rc('xtick', labelsize=MEDIUM_SIZE)    # fontsize of the tick labels\n",
    "plt.rc('ytick', labelsize=MEDIUM_SIZE)    # fontsize of the tick labels\n",
    "plt.rc('legend', fontsize=SMALL_SIZE)    # legend fontsize\n",
    "plt.rc('figure', titlesize=BIGGER_SIZE) \n",
    "# fig1 = plt.figure(figsize=(20,5))\n",
    "fig1 = plt.figure(figsize=(global_width,global_height))\n",
    "gs = fig1.add_gridspec(1, 3)\n",
    "axs = []\n",
    "axs.append(fig1.add_subplot(gs[0,1:]))\n",
    "axs.append(fig1.add_subplot(gs[0,0]))\n",
    "\n",
    "letters = ['B','A']\n",
    "axs[0].text(-0.1, 1.0, letters.pop(0), transform=axs[0].transAxes, \n",
    "        size=20, weight='bold')\n",
    "axs[1].text(-0.1, 1.0, letters.pop(0), transform=axs[1].transAxes, \n",
    "        size=20, weight='bold')\n",
    "axs[1].axis('off')\n",
    "\n",
    "\n",
    "axs[0].plot(acc_null.T,color=colors[-6],alpha = 0.1)\n",
    "axs[0].plot(torch.mean(acc_null,dim=0),color=\"#d3d3d3\",alpha = 1,linewidth=2)\n",
    "axs[0].plot(acc_LIF1.T,color=colors[-4],alpha = 0.1)\n",
    "axs[0].plot(torch.mean(acc_LIF1,dim=0),color=colors[-4],alpha = 1,linewidth=2)\n",
    "axs[0].plot(acc_LIF2.T,color=colors[-3],alpha = 0.1)\n",
    "axs[0].plot(torch.mean(acc_LIF2,dim=0),color=colors[-3],alpha = 1,linewidth=2)\n",
    "axs[0].plot(acc_spll.T,color=colors[-2],alpha = 0.1)\n",
    "axs[0].plot(torch.mean(acc_spll,dim=0),color=colors[-2],alpha = 1,linewidth=2)\n",
    "axs[0].plot(acc_LSTM.T,color=colors[-1],alpha = 0.1)\n",
    "axs[0].plot(torch.mean(acc_LSTM,dim=0),color=colors[-1],alpha = 1,linewidth=2)\n",
    "axs[0].set_xlabel('Epochs')\n",
    "axs[0].set_title(f'Mean over {seeds} seeds')\n",
    "axs[0].set_ylabel('Accuracy (\\%)')\n",
    "axs[0].spines['right'].set_visible(False)\n",
    "axs[0].spines['top'].set_visible(False)\n",
    "axs[0].patch.set_visible(False)\n",
    "axs[0].grid(False)\n",
    "# axs[0].text(-0.1, 1.1, letters.pop(0), transform=axs[0].transAxes, \n",
    "#         size=20, weight='bold')\n",
    "\n",
    "custom_lines = []\n",
    "custom_lines.append(Line2D([0], [0], color=\"#d3d3d3\", lw=4,solid_capstyle='round'))\n",
    "custom_lines.append(Line2D([0], [0], color=colors[-4], lw=4,solid_capstyle='round'))\n",
    "custom_lines.append(Line2D([0], [0], color=colors[-3], lw=4,solid_capstyle='round'))\n",
    "custom_lines.append(Line2D([0], [0], color=colors[-2], lw=4,solid_capstyle='round'))\n",
    "custom_lines.append(Line2D([0], [0], color=colors[-1], lw=4,solid_capstyle='round'))\n",
    "axs[0].legend(custom_lines,[\n",
    "   'Null',\n",
    "     '1L 50 R-LIF + Linear',\n",
    "     '2L 50 R-LIF + Linear',\n",
    "    '50 sPLL + Linear',\n",
    "    '2L-LSTM + Linear'\n",
    "],fancybox=True,loc='best',title='Model', framealpha=0.8)\n",
    "fig1.tight_layout()\n",
    "fig1.savefig('abstract_A.pdf',bbox_inches='tight')    "
   ]
  },
  {
   "cell_type": "code",
   "execution_count": null,
   "id": "99d64fb7b970e31c",
   "metadata": {
    "ExecuteTime": {
     "end_time": "2023-11-20T08:35:06.003094382Z",
     "start_time": "2023-11-20T08:35:06.001679611Z"
    }
   },
   "outputs": [],
   "source": []
  }
 ],
 "metadata": {
  "kernelspec": {
   "display_name": "Python 3 (ipykernel)",
   "language": "python",
   "name": "python3"
  },
  "language_info": {
   "codemirror_mode": {
    "name": "ipython",
    "version": 3
   },
   "file_extension": ".py",
   "mimetype": "text/x-python",
   "name": "python",
   "nbconvert_exporter": "python",
   "pygments_lexer": "ipython3",
   "version": "3.10.12"
  }
 },
 "nbformat": 4,
 "nbformat_minor": 5
}
